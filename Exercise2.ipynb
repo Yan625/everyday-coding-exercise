{
 "cells": [
  {
   "cell_type": "markdown",
   "metadata": {},
   "source": [
    "**Exercise 1.**\n",
    "You are given an array of integers that contain numbers in random order. Write a program to find and return the number which occurs the maximum times in the given input.\n",
    "If two or more elements contend for the maximum frequency, return the element which occurs in the array first.\n",
    "\n",
    "              input format:Line 1 : An Integer N i.e. size of array\n",
    "                           Line 2 : N integers which are elements of the array, separated by spaces\n",
    "                           like:13\n",
    "                                2 12 2 11 12 2 1 2 2 11 12 2 6 \n",
    "              output format:Most frequent element\n",
    "                            like:2"
   ]
  },
  {
   "cell_type": "code",
   "execution_count": 1,
   "metadata": {},
   "outputs": [
    {
     "name": "stdout",
     "output_type": "stream",
     "text": [
      "13\n",
      "2 12 2 11 12 2 1 2 2 11 12 2 6 \n",
      "2\n"
     ]
    }
   ],
   "source": [
    "def maxFreq(l):\n",
    "    dict={}\n",
    "    for i in l:\n",
    "        dict[i]=dict.get(i,0)+1\n",
    "    max=0\n",
    "    for j in dict:\n",
    "        if dict[j]>max:\n",
    "            max=dict[j]\n",
    "    for k in dict:\n",
    "        if dict[k]==max:\n",
    "            print(k)\n",
    "            break\n",
    "            \n",
    "n=int(input())\n",
    "l=list(int(i) for i in input().strip().split(' '))\n",
    "maxFreq(l)"
   ]
  },
  {
   "cell_type": "markdown",
   "metadata": {},
   "source": [
    "**Exercise 2.**\n",
    "Given an array that might contain duplicate elements, find the maximum possible distance between occurrences of two repeating elements i.e. elements having same value. If there are no duplicate elements in the array, return 0.\n",
    "\n",
    "              input format:Line 1 : Contains integer N which is the size of array\n",
    "                           Line 2 : Contains N Integers i.e. the elements of the array.\n",
    "                           like:9\n",
    "                                1  3  1  4  5  6  4  8  3\n",
    "              output format: Maximum Distance Value\n",
    "                             like:7\n",
    "              Sample Output Explanation :\n",
    "                             arr = [1, 3, 1, 4, 5, 6, 4, 8, 3];\n",
    "                                index0 = 1\n",
    "                                index1 = 3\n",
    "                                index2 = 1\n",
    "                                index3 = 4\n",
    "                                index4 = 5\n",
    "                                index5 = 6\n",
    "                                index6 = 4\n",
    "                                index7 = 8\n",
    "                                index8 = 3\n",
    "\n",
    "    In the above array, the repeating elements are :- (1, 3, 4)\n",
    "    - Distance bw first and last occurence of 1 = 2(index2 - index0)\n",
    "    - Distance bw first and last occurence of 3 = 7(index8 - index1)\n",
    "    - Distance bw first and last occurence of 4 = 3(index6 - index3)\n",
    "\n",
    "    So, for the above array you must return 7, as this is maximum possible distance between two repeating elements having same value."
   ]
  },
  {
   "cell_type": "code",
   "execution_count": 2,
   "metadata": {},
   "outputs": [
    {
     "name": "stdout",
     "output_type": "stream",
     "text": [
      "10\n",
      "141 135 147 111 131 130 100 141 161 135\n",
      "8\n"
     ]
    }
   ],
   "source": [
    "n=int(input())\n",
    "arr=[int(i) for i in input().split()]\n",
    "map1={}\n",
    "map2={}\n",
    "for i in range(0, len(arr)):\n",
    "    if not(arr[i] in map1):\n",
    "        map1[arr[i]]=i\n",
    "    else:\n",
    "        map2[arr[i]]=i-map1[arr[i]]\n",
    "\n",
    "\n",
    "max=0\n",
    "for i in map2.keys():\n",
    "    if map2[i]>max:\n",
    "        max=map2[i]\n",
    "print(max)"
   ]
  },
  {
   "cell_type": "markdown",
   "metadata": {},
   "source": [
    "**Exercise 3.**\n",
    "Find number of elements to be removed to make an array of all distinct elements.\n",
    "\n",
    "\n",
    "              input format: Line 1 : Integer N \n",
    "                            Line 2 : N integers separated be a single space\n",
    "                            like:5\n",
    "                                 2 1 4 2 1\n",
    "              output format: Integer\n",
    "                             like 2 #it removes 1 and 2"
   ]
  },
  {
   "cell_type": "code",
   "execution_count": 3,
   "metadata": {},
   "outputs": [
    {
     "name": "stdout",
     "output_type": "stream",
     "text": [
      "5\n",
      "2 1 4 2 1\n",
      "2\n"
     ]
    }
   ],
   "source": [
    "N=int(input())\n",
    "l=input().split()\n",
    "len(l)\n",
    "s=set()\n",
    "for i in l:\n",
    "    s.add(i)\n",
    "print(len(l)-len(s))"
   ]
  },
  {
   "cell_type": "markdown",
   "metadata": {},
   "source": [
    "**Exercise 4.**\n",
    "In a given string, find the first non-repeating character .You are given a string, that can contain repeating characters. Your task is to return the first character in this string that does not repeat. i.e., occurs exactly once. The string will contain characters only from English alphabet set, i.e., ('A' - 'Z') and ('a' - 'z'). If there is no non-repeating character print the first character of string.\n",
    "\n",
    "              input format: Line 1 : A String , as mentioned above.\n",
    "                            like:aDcadhc\n",
    "                            like:gdhIgHada\n",
    "                                 \n",
    "              output format: First non-repeating character\n",
    "                             like:D\n",
    "                             like:h"
   ]
  },
  {
   "cell_type": "code",
   "execution_count": 4,
   "metadata": {},
   "outputs": [
    {
     "name": "stdout",
     "output_type": "stream",
     "text": [
      "VqIdXfNgHbOcBCEYRMKORCLIVJ\n",
      "q\n"
     ]
    }
   ],
   "source": [
    "l=list(input())\n",
    "dict={}\n",
    "for i in l:\n",
    "    dict[i]=dict.get(i,0)+1\n",
    "for i in l:\n",
    "    if dict[i]==1:  #dictionary, tuple, set won't restore the elements in order. only list, Numpy array can\n",
    "        print(i)\n",
    "        break"
   ]
  },
  {
   "cell_type": "markdown",
   "metadata": {},
   "source": [
    "**Exercise 5.Different Names**\n",
    "\n",
    "In Little Flowers Public School, there are many students with same first names. You are given a task to find the students with same names. You will be given a string comprising of all the names of students and you have to tell the name and count of those students having same. If all the names are unique, print -1 instead.\n",
    "Note: We don't have to mention names whose frequency is 1.\n",
    "\n",
    "              input format: a string ‘str’ with space separated first names of students.\n",
    "                            like:Abhishek harshit Ayush harshit Ayush Iti Deepak Ayush Iti\n",
    "                            like:Abhishek Harshit Ayush Iti\n",
    "                            \n",
    "                                 \n",
    "              output format: Print the names of students along with their count if they are repeating. \n",
    "                             If no name is repeating, print -1\n",
    "                             like:harshit 2\n",
    "                                  Ayush 3\n",
    "                                  Iti 2\n",
    "                             like:-1\n",
    "                            "
   ]
  },
  {
   "cell_type": "code",
   "execution_count": 12,
   "metadata": {},
   "outputs": [
    {
     "name": "stdout",
     "output_type": "stream",
     "text": [
      "Abhishek harshit Ayush harshit Ayush Iti Deepak Ayush Iti\n",
      "harshit 2\n",
      "Ayush 3\n",
      "Iti 2\n"
     ]
    }
   ],
   "source": [
    "def freqmap(l):\n",
    "    map={}\n",
    "    for num in l:\n",
    "        if num in map:\n",
    "            map[num]+=1\n",
    "        else:\n",
    "            map[num]=1\n",
    "    return map\n",
    "\n",
    "def differentnames(l):\n",
    "    m=freqmap(l)\n",
    "    ans={}\n",
    "    for name in m:\n",
    "        if m[name]!=1:\n",
    "            ans[name]=m[name]\n",
    "    return ans\n",
    "\n",
    "names=input().strip().split()\n",
    "m=differentnames(names)\n",
    "if m:\n",
    "    for name in m:\n",
    "        print(name,m[name])\n",
    "else:\n",
    "    print(-1)         "
   ]
  },
  {
   "cell_type": "markdown",
   "metadata": {},
   "source": [
    "**Exercise 6.**\n",
    "You are provided with an integer array where each number is present either odd number of times or even number of times. You have to find and return the number which is present even number of times.\n",
    "If multiple numbers are present even number of times, then return that number which occurs first among these numbers in the given array. If no such number exists, then return -1.\n",
    "\n",
    "              input format: Line 1 : An Integer N i.e. size of array \n",
    "                            Line 2 : N integers which are elements of the array, separated by spacesa string \n",
    "                                    ‘str’ with space separated first names of students.\n",
    "                            like:6\n",
    "                                 2 5 3 5 3 4 \n",
    "                            \n",
    "                                 \n",
    "              output format: Array element occurring even no. of times\n",
    "                             like:5"
   ]
  },
  {
   "cell_type": "code",
   "execution_count": 15,
   "metadata": {},
   "outputs": [
    {
     "name": "stdout",
     "output_type": "stream",
     "text": [
      "6\n",
      "2 5 3 5 3 4 \n",
      "5\n"
     ]
    }
   ],
   "source": [
    "def freqmap(l):\n",
    "    map={}\n",
    "    for num in l:\n",
    "        if num in map:\n",
    "            map[num]+=1\n",
    "        else:\n",
    "            map[num]=1\n",
    "    return map\n",
    "def evencount(arr):\n",
    "    map=freqmap(arr)\n",
    "    for number in arr:\n",
    "        if map[number]%2==0:\n",
    "            return number\n",
    "    return -1\n",
    "n=int(input())\n",
    "arr=list(int(i) for i in input().strip().split(\" \"))\n",
    "print(evencount(arr))"
   ]
  },
  {
   "cell_type": "markdown",
   "metadata": {},
   "source": [
    "**Exercise 7.**\n",
    "You are given n triangles. You are required to find how many triangles are unique out of given triangles. For each triangle you are given three integers a, b and c (the sides of a triangle).\n",
    "A triangle is said to be unique if there is no other triangle with same set of sides.\n",
    "\n",
    "              input format: Line 1 : Integer n, the number of triangles Next n lines : Three integers a,b,c \n",
    "                                     (sides of a triangle).\n",
    "                            like:5\n",
    "                                 7 6 5\n",
    "                                 5 7 6\n",
    "                                 8 2 9\n",
    "                                 2 3 4\n",
    "                                 2 4 3\n",
    "                            \n",
    "                                 \n",
    "              output format: print single integer, the number of unique triangles.\n",
    "                             like:1"
   ]
  },
  {
   "cell_type": "code",
   "execution_count": 16,
   "metadata": {},
   "outputs": [
    {
     "name": "stdout",
     "output_type": "stream",
     "text": [
      "5\n",
      "7 6 5\n",
      "5 7 6\n",
      "8 2 9\n",
      "2 3 4\n",
      "2 4 3\n",
      "1\n"
     ]
    }
   ],
   "source": [
    "def uniquetriangle(arr):\n",
    "    row=len(arr)\n",
    "    col=len(arr[0])\n",
    "    mp={}\n",
    "    hel={}\n",
    "    for i in range(row):\n",
    "        tri=arr[i]\n",
    "        tri.sort()\n",
    "        stra=[str(x) for x in tri]\n",
    "        strb=\"\"\n",
    "        strb=strb.join(stra)\n",
    "        if strb not in mp.values():\n",
    "            mp[i]=strb\n",
    "        else:\n",
    "            hel[i]=strb\n",
    "    count=0\n",
    "    for i in range(row):\n",
    "        if i in mp:\n",
    "            val=mp.get(i)\n",
    "            if val not in hel.values():\n",
    "                count+=1\n",
    "    print(count)\n",
    "n=int(input())\n",
    "arr=[]\n",
    "for i in range(n):\n",
    "    row=[int(x) for x in input().strip().split()]\n",
    "    arr.append(row)\n",
    "uniquetriangle(arr)"
   ]
  },
  {
   "cell_type": "markdown",
   "metadata": {},
   "source": [
    "**Exercise 8.Pairs with difference K**\n",
    "You are given with an array of integers and an integer K. Write a program to find and print all pairs which have difference K.\n",
    "Take difference as absolute.\n",
    "\n",
    "              input format: Line 1 : Integer n, Size of array\n",
    "                            Line 2 : Array elements (separated by space)\n",
    "                            Line 3 : K\n",
    "                   Sample input1:4 \n",
    "                                 5 1 2 4\n",
    "                                 3\n",
    "                   Sample input1:4 \n",
    "                                 4 4 4 4 \n",
    "                                 0\n",
    "                                 \n",
    "              output format: Print pairs in different lines (pair elements separated by space). In a pair, \n",
    "                             smaller element should be printed first.(Order of different pairs is not important)\n",
    "                   sample output1:2 5\n",
    "                                  1 4\n",
    "                   sample output1:4 4\n",
    "                                  4 4\n",
    "                                  4 4\n",
    "                                  4 4\n",
    "                                  4 4\n",
    "                                  4 4                           "
   ]
  },
  {
   "cell_type": "code",
   "execution_count": 18,
   "metadata": {},
   "outputs": [
    {
     "name": "stdout",
     "output_type": "stream",
     "text": [
      "4\n",
      "5 1 2 4\n",
      "3\n",
      "2 5\n",
      "1 4\n"
     ]
    }
   ],
   "source": [
    "def printpairdiffk(l,k):\n",
    "    if k <0:\n",
    "        k*=-1\n",
    "    m={}\n",
    "    for num in l:\n",
    "        if num+k in m:\n",
    "            for i in range(0,m[num+k]):\n",
    "                print(num,num+k)\n",
    "        if k!=0 and num-k in m:\n",
    "            for i in range(0,m[num-k]):\n",
    "                print(num-k,num)\n",
    "        if num in m:\n",
    "            m[num]+=1\n",
    "        else:\n",
    "            m[num]=1\n",
    "n=int(input())\n",
    "l=list(int(i) for i in input().strip().split(' '))\n",
    "k=int(input())\n",
    "printpairdiffk(l,k)\n",
    "            "
   ]
  }
 ],
 "metadata": {
  "kernelspec": {
   "display_name": "Python 3",
   "language": "python",
   "name": "python3"
  },
  "language_info": {
   "codemirror_mode": {
    "name": "ipython",
    "version": 3
   },
   "file_extension": ".py",
   "mimetype": "text/x-python",
   "name": "python",
   "nbconvert_exporter": "python",
   "pygments_lexer": "ipython3",
   "version": "3.7.3"
  }
 },
 "nbformat": 4,
 "nbformat_minor": 2
}
