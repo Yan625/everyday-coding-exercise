{
 "cells": [
  {
   "cell_type": "markdown",
   "metadata": {},
   "source": [
    "**Assignment 1 Terrorism Day:**\n",
    "\n",
    "Given file \"terrorismData.csv\"\n",
    "It is an open-source database including information on terrorist attacks around the world from 1970 through 2017. This dataset includes systematic data on domestic as well as international terrorist incidents that have occurred during this time period\n",
    "\n",
    "Problem Statement :\n",
    "\n",
    "    Find the number of attack held between day 10 and day 20?(ignoring the year and month)(including both day)\n",
    "    Print count of NumberOFAttack as integer value.\n",
    "\n",
    "Output Format :\n",
    "    \n",
    "    count"
   ]
  },
  {
   "cell_type": "code",
   "execution_count": 1,
   "metadata": {},
   "outputs": [
    {
     "name": "stdout",
     "output_type": "stream",
     "text": [
      "66330\n"
     ]
    }
   ],
   "source": [
    "import csv\n",
    "import numpy as np\n",
    "data1=open('terrorismData.csv')\n",
    "data=csv.DictReader(data1,skipinitialspace=True)\n",
    "\n",
    "day=[]\n",
    "attack=[]\n",
    "for row in data:\n",
    "    day.append(row['Day'])\n",
    "    attack.append(row['AttackType'])\n",
    "\n",
    "np_day=np.array(day,dtype=float)\n",
    "np_attack=np.array(attack)\n",
    "\n",
    "bool_arr=(np_day>=10)&(np_day<=20)\n",
    "ans=np_attack[bool_arr]\n",
    "\n",
    "NumberOFAttack=0\n",
    "for i in ans:\n",
    "    NumberOFAttack=NumberOFAttack+1\n",
    "print(NumberOFAttack)"
   ]
  },
  {
   "cell_type": "markdown",
   "metadata": {},
   "source": [
    "**Assignment 2 Terrorism Date:**\n",
    "\n",
    "Given file \"terrorismData.csv\"\n",
    "It is an open-source database including information on terrorist attacks around the world from 1970 through 2017. This dataset includes systematic data on domestic as well as international terrorist incidents that have occurred during this time period\n",
    "\n",
    "Problem Statement :\n",
    "\n",
    "    Find the number of attack held between 1 Jan 2010 and 31 Jan 2010?(including both date).\n",
    "    Note Ignore the case where day is 0\n",
    "    Print count of NumberOFAttack as integer value.\n",
    "\n",
    "Output Format :\n",
    "    \n",
    "    count"
   ]
  },
  {
   "cell_type": "code",
   "execution_count": 3,
   "metadata": {},
   "outputs": [
    {
     "name": "stdout",
     "output_type": "stream",
     "text": [
      "271\n"
     ]
    }
   ],
   "source": [
    "import csv\n",
    "import numpy as np\n",
    "data1=open('terrorismData.csv')\n",
    "data=csv.DictReader(data1,skipinitialspace=True)\n",
    "\n",
    "day=[]\n",
    "month=[]\n",
    "year=[]\n",
    "attack=[]\n",
    "for row in data:\n",
    "    day.append(row['Day'])\n",
    "    month.append(row['Month'])\n",
    "    year.append(row['Year'])\n",
    "    attack.append(row['AttackType'])\n",
    "\n",
    "np_day=np.array(day,dtype=float)\n",
    "np_month=np.array(month,dtype=float)\n",
    "np_year=np.array(year,dtype=float)\n",
    "np_attack=np.array(attack)\n",
    "\n",
    "bool_arr=(np_year==2010)&(np_month==1)&(np_day>=1)&(np_day<=31)\n",
    "ans=np_attack[bool_arr]\n",
    "\n",
    "NumberOFAttack=0\n",
    "for i in ans:\n",
    "    NumberOFAttack=NumberOFAttack+1\n",
    "print(NumberOFAttack)"
   ]
  },
  {
   "cell_type": "markdown",
   "metadata": {},
   "source": [
    "**Assignment 3 Terror Casualty Attack:**\n",
    "\n",
    "Given file \"terrorismData.csv\"\n",
    "It is an open-source database including information on terrorist attacks around the world from 1970 through 2017. This dataset includes systematic data on domestic as well as international terrorist incidents that have occurred during this time period\n",
    "\n",
    "Problem Statement :\n",
    "    \n",
    "    As we knew the Kargil ( in Jammu and Kashmir) War that took place between May 1999 and July 1999 (3 Months) ,so there was a huge conflict in Kashmir Valley during this period.\n",
    "    In this dataset, there is no information regarding the war between the two countries to find out the casualty during the war.\n",
    "    So find out the attack in this period in which maximum casualties happened.\n",
    "    Print the count of casualties (as integer), city in which that attack happened and name of attack group.\n",
    "    Note : Casualty = Killed + Wounded.Fill the empty value in killed or wounded feature to 0.\n",
    "\n",
    "Output Format :\n",
    "\n",
    "    Casualty City TerroristGroup"
   ]
  },
  {
   "cell_type": "code",
   "execution_count": 4,
   "metadata": {},
   "outputs": [
    {
     "name": "stdout",
     "output_type": "stream",
     "text": [
      "22 Kargil District Separatists\n"
     ]
    }
   ],
   "source": [
    "import csv\n",
    "import numpy as np\n",
    "path='terrorismData.csv'\n",
    "casualty=[]\n",
    "month=[]\n",
    "city=[]\n",
    "with open(path,'r') as data:\n",
    "    reader=csv.DictReader(data)\n",
    "    for row in reader:\n",
    "        if row['State']=='Jammu and Kashmir' and row['Year']=='1999':\n",
    "            if row['Month']=='5' or row['Month']=='6' or row['Month']=='7':\n",
    "                city.append([row['City'],row['Group']])\n",
    "                casualty.append([row['Killed'],row['Wounded']])\n",
    "npcasualty=np.array(casualty)\n",
    "npcity=np.array(city)\n",
    "npcasualty[npcasualty=='']=0\n",
    "npcasualty=np.array(npcasualty,dtype=float)\n",
    "npcasualty=np.sum(npcasualty,axis=1)\n",
    "index=np.argmax(npcasualty)\n",
    "print(int(npcasualty[index]),npcity[index][0],npcity[index][1])"
   ]
  },
  {
   "cell_type": "markdown",
   "metadata": {},
   "source": [
    "**Assignment 4 Terror Casualty Red:**\n",
    "Given file \"terrorismData.csv\"\n",
    "It is an open-source database including information on terrorist attacks around the world from 1970 through 2017. This dataset includes systematic data on domestic as well as international terrorist incidents that have occurred during this time period\n",
    "\n",
    "Problem Statement :\n",
    "\n",
    "    Find the casualty in the Red Corridor States ? Mainly Red corridor states include Jharkhand, Odisha, Andhra Pradesh, and Chhattisgarh.\n",
    "    Note: Casualty=Killed +Wounded\n",
    "    Print count of Casualty as integer value.\n",
    "\n",
    "Output Format :\n",
    "\n",
    "    Count\n"
   ]
  },
  {
   "cell_type": "code",
   "execution_count": 5,
   "metadata": {},
   "outputs": [
    {
     "name": "stdout",
     "output_type": "stream",
     "text": [
      "5628\n"
     ]
    }
   ],
   "source": [
    "import csv\n",
    "import numpy as np\n",
    "data1=open('terrorismData.csv')\n",
    "data=csv.DictReader(data1,skipinitialspace=True)\n",
    "\n",
    "killed=[]\n",
    "wounded=[]\n",
    "state=[]\n",
    "\n",
    "for row in data:\n",
    "    killed.append(row['Killed'])\n",
    "    wounded.append(row['Wounded'])\n",
    "    state.append(row['State'])\n",
    "    \n",
    "np_killed=np.array(killed)\n",
    "np_wounded=np.array(wounded)    \n",
    "np_killed[np_killed=='']='0.0'\n",
    "np_wounded[np_wounded=='']='0.0'\n",
    "   \n",
    "np_killed=np.array(np_killed,dtype=float)\n",
    "np_wounded=np.array(np_wounded,dtype=float)\n",
    "np_state=np.array(state)\n",
    "\n",
    "Casualty=np_killed+np_wounded\n",
    "\n",
    "bool_arr1=np_state=='Jharkhand'\n",
    "bool_arr2=np_state=='Odisha'\n",
    "bool_arr3=np_state=='Andhra Pradesh'\n",
    "bool_arr4=np_state=='Chhattisgarh'\n",
    "\n",
    "casualty1=Casualty[bool_arr1]\n",
    "casualty2=Casualty[bool_arr2]\n",
    "casualty3=Casualty[bool_arr3]\n",
    "casualty4=Casualty[bool_arr4]\n",
    "\n",
    "sum1=np.sum(casualty1)\n",
    "sum2=np.sum(casualty2)\n",
    "sum3=np.sum(casualty3)\n",
    "sum4=np.sum(casualty4)\n",
    "\n",
    "count=sum1+sum2+sum3+sum4\n",
    "print(int(count))"
   ]
  },
  {
   "cell_type": "markdown",
   "metadata": {},
   "source": [
    "**Assignment 5 Terror City Casualty:**\n",
    "\n",
    "Given file \"terrorismData.csv\"\n",
    "It is an open-source database including information on terrorist attacks around the world from 1970 through 2017. This dataset includes systematic data on domestic as well as international terrorist incidents that have occurred during this time period\n",
    "\n",
    "Problem Statement :\n",
    "\n",
    "    Find top 5 Indian Cities which has most number of casualties ?\n",
    "    Print top 5 cities along with total casualties in that city. Print count of Casualty as integer value.\n",
    "    Note: Ignoring the City which is Unknown.\n",
    "    Casualty = Killed + Wounded.\n",
    "\n",
    "Output Format :\n",
    "\n",
    "    city_1 casualty_1\n",
    "    city_2 casualty_2\n",
    "    city_3 casualty_3\n",
    "    city_4 casualty_4\n",
    "    city_5 casualty_5\n"
   ]
  },
  {
   "cell_type": "code",
   "execution_count": 6,
   "metadata": {},
   "outputs": [
    {
     "name": "stdout",
     "output_type": "stream",
     "text": [
      "Srinagar 3134\n",
      "New Delhi 2095\n",
      "Mumbai 2016\n",
      "Jammu 1119\n",
      "Guwahati 822\n"
     ]
    }
   ],
   "source": [
    "import csv\n",
    "import numpy as np\n",
    "path='terrorismData.csv'\n",
    "casualty=[]\n",
    "city=[]\n",
    "with open(path,'r')as data:\n",
    "    reader=csv.DictReader(data)\n",
    "    for row in reader:\n",
    "        if row['Country']=='India':\n",
    "            city.append(row['City'])\n",
    "            casualty.append([row[\"Killed\"],row['Wounded']])\n",
    "npcasualty=np.array(casualty)\n",
    "npcity=np.array(city)\n",
    "npcasualty[npcasualty=='']=0\n",
    "npcasualty=np.array(npcasualty,dtype=float)\n",
    "npcasualty=np.sum(npcasualty,axis=1)\n",
    "def citycasualty(cityarr,casualtyarr):\n",
    "    arr=[]\n",
    "    unique=np.unique(cityarr)\n",
    "    for i in unique:\n",
    "        index,=np.where(cityarr==i)\n",
    "        sumcasualty=casualtyarr[index].sum()\n",
    "        arr.append([sumcasualty,i])\n",
    "    arr.sort(reverse=True)\n",
    "    return arr\n",
    "arr=citycasualty(npcity,npcasualty)\n",
    "for i in range(6):\n",
    "    if arr[i][1]!='Unknown':\n",
    "        print(arr[i][1],int(arr[i][0]))"
   ]
  },
  {
   "cell_type": "markdown",
   "metadata": {},
   "source": [
    "**Assignment 6 Terrorism FrequentDay:**\n",
    "\n",
    "Given file \"terrorismData.csv\"\n",
    "    \n",
    "    It is an open-source database including information on terrorist attacks around the world from 1970 through 2017. This dataset includes systematic data on domestic as well as international terrorist incidents that have occurred during this time period\n",
    "\n",
    "Problem Statement :\n",
    "\n",
    "    Find the most frequent day of attack in a terrorismDataset ?\n",
    "    Note: Here np.unique can be used.\n",
    "    Print count of frequent day and number of attack as Integer value.\n",
    "\n",
    "Output Format :\n",
    "    \n",
    "    Day NumberOFAttack\n"
   ]
  },
  {
   "cell_type": "code",
   "execution_count": 7,
   "metadata": {},
   "outputs": [
    {
     "name": "stdout",
     "output_type": "stream",
     "text": [
      "15 6500\n"
     ]
    }
   ],
   "source": [
    "import csv\n",
    "import numpy as np\n",
    "import statistics \n",
    "from statistics import mode\n",
    "data1=open('terrorismData.csv')\n",
    "data=csv.DictReader(data1,skipinitialspace=True)\n",
    "\n",
    "day=[]\n",
    "attack=[]\n",
    "for row in data:\n",
    "    day.append(row['Day'])\n",
    "    attack.append(row['AttackType'])\n",
    "\n",
    "np_day=np.array(day,dtype=float)\n",
    "np_attack=np.array(attack)\n",
    "\n",
    "np_day=np_day[np_day!=0]\n",
    "fre_day=mode(np_day)\n",
    "\n",
    "ans=np_day[np_day==fre_day]\n",
    "NumberOFAttack=0\n",
    "for i in ans:\n",
    "    NumberOFAttack=NumberOFAttack+1\n",
    "print(int(fre_day),NumberOFAttack)"
   ]
  },
  {
   "cell_type": "code",
   "execution_count": null,
   "metadata": {},
   "outputs": [],
   "source": []
  }
 ],
 "metadata": {
  "kernelspec": {
   "display_name": "Python 3",
   "language": "python",
   "name": "python3"
  },
  "language_info": {
   "codemirror_mode": {
    "name": "ipython",
    "version": 3
   },
   "file_extension": ".py",
   "mimetype": "text/x-python",
   "name": "python",
   "nbconvert_exporter": "python",
   "pygments_lexer": "ipython3",
   "version": "3.7.3"
  }
 },
 "nbformat": 4,
 "nbformat_minor": 2
}
