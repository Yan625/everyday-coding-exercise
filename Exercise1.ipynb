{
 "cells": [
  {
   "cell_type": "markdown",
   "metadata": {},
   "source": [
    "**Exercise 1:**\n",
    "Given a String s, check it its palindrome. Return true if string is palindrome, else return false.\n",
    "Palindrome strings are those, where string s and its reverse is exactly same. input-->abcdcba, output-->True"
   ]
  },
  {
   "cell_type": "code",
   "execution_count": 2,
   "metadata": {},
   "outputs": [
    {
     "name": "stdout",
     "output_type": "stream",
     "text": [
      "vyyv\n",
      "True\n"
     ]
    }
   ],
   "source": [
    "s=input()\n",
    "for i in range(len(s)):\n",
    "    if s[i]!=s[len(s)-i-1]:\n",
    "        print(\"False\")\n",
    "        break\n",
    "else:\n",
    "    print(\"True\")"
   ]
  },
  {
   "cell_type": "markdown",
   "metadata": {},
   "source": [
    "**Exercise 2:**\n",
    "Given a String S of length n, print all its substrings.\n",
    "Substring of a String S is a part of S (of any length from 1 to n), which contains all consecutive characters from S.\n",
    " \n",
    "                input-->xyz\n",
    "                output-->x,y,z,xy,xz,yz,xyz"
   ]
  },
  {
   "cell_type": "code",
   "execution_count": 3,
   "metadata": {},
   "outputs": [
    {
     "name": "stdout",
     "output_type": "stream",
     "text": [
      "xyz\n",
      "x\n",
      "xy\n",
      "xyz\n",
      "y\n",
      "yz\n",
      "z\n"
     ]
    }
   ],
   "source": [
    "s=input()\n",
    "for j in range(len(s)):\n",
    "    for i in range(len(s)-j):\n",
    "        print(s[j:j+i+1])"
   ]
  },
  {
   "cell_type": "markdown",
   "metadata": {},
   "source": [
    "**Exercise3**\n",
    "Given an array of length N, swap every pair of alternate elements in the array.\n",
    "You don't need to print or return anything, just change in the input array itself.\n",
    "\n",
    "format:\n",
    "\n",
    "                    input:\n",
    "                    Line 1 : An Integer N i.e. size of array\n",
    "                    Line 2 : N integers which are elements of the array, separated by spaces\n",
    "                    output:\n",
    "                    Elements after swapping in a single line, separated by space.\n",
    "\n",
    "example:\n",
    "                     \n",
    "                     input-->6\n",
    "                              9 3 6 12 4 32\n",
    "                     output-->3 9 12 6 32 4\n",
    "                     input-->9\n",
    "                              9 3 6 12 4 32 5 11 19\n",
    "                     output-->3 9 12 6 32 4 11 5 19"
   ]
  },
  {
   "cell_type": "code",
   "execution_count": 4,
   "metadata": {},
   "outputs": [
    {
     "name": "stdout",
     "output_type": "stream",
     "text": [
      "9\n",
      "9 3 6 12 4 32 5 11 19\n",
      "['3', '9', '12', '6', '32', '4', '11', '5', '19']\n"
     ]
    }
   ],
   "source": [
    "N=int(input())\n",
    "s=input().split()\n",
    "i=0\n",
    "while i < N//2:\n",
    "    temp=s[2*i+1]\n",
    "    s[2*i+1]=s[2*i]\n",
    "    s[2*i]=temp\n",
    "    i=i+1\n",
    "print(s)"
   ]
  },
  {
   "cell_type": "markdown",
   "metadata": {},
   "source": [
    "**Exercise 4.**\n",
    "Find and return the equilibrium index of an array. Equilibrium index of an array is an index i such that the sum of elements at indices less than i is equal to the sum of elements at indices greater than i.\n",
    "Element at index i is not included in either part.\n",
    "If more than one equilibrium index is present, you need to return the first one. And return -1 if no equilibrium index is present.\n",
    "\n",
    "                           input format:Line 1 : Size of input array\n",
    "                                        Line 2 : Array elements (separated by space)\n",
    "                                example:7\n",
    "                                        -7 1 5 2 -4 3 0\n",
    "                           output format:index\n",
    "                                 example:3\n",
    "                                 \n",
    "                           constraints:Time Limit: 1 second\n",
    "                                       Size of input array lies in the range: [1, 1000000]\n",
    "                                 "
   ]
  },
  {
   "cell_type": "code",
   "execution_count": 5,
   "metadata": {},
   "outputs": [
    {
     "name": "stdout",
     "output_type": "stream",
     "text": [
      "7\n",
      "-7 1 5 2 -4 3 0\n",
      "3\n"
     ]
    }
   ],
   "source": [
    "n=int(input())\n",
    "array=input().split()\n",
    "\n",
    "sum_total=0\n",
    "for i in range(n):\n",
    "    sum_total=int(sum_total)+int(array[i])\n",
    "\n",
    "m=0.5*sum_total  \n",
    "sum_before=0\n",
    "for i in range(n):\n",
    "    sum_before=int(sum_before)+int(array[i])\n",
    "    if sum_before==sum_total-sum_before+int(array[i]):\n",
    "        print(i)\n",
    "        break\n",
    "else:\n",
    "    print(\"-1\")"
   ]
  },
  {
   "cell_type": "markdown",
   "metadata": {},
   "source": [
    "**Exercise 5.**\n",
    "Given a 2D integer array of size M*N, find and print the sum of ith row elements separated by space.\n",
    "\n",
    "                input format:Line 1 : Two integers M and N (separated by space) \n",
    "                             Line 2 : Matrix elements of each row (separated by space)\n",
    "                             like: 4 2 \n",
    "                                   1 2 3 4 5 6 7 8\n",
    "                output format:Sum of every ith row elements (separated by space)\n",
    "                             like: 3 7 11 15 "
   ]
  },
  {
   "cell_type": "code",
   "execution_count": 6,
   "metadata": {},
   "outputs": [
    {
     "name": "stdout",
     "output_type": "stream",
     "text": [
      "4 2\n",
      "1 2 3 4 5 6 7 8\n",
      "3 7 11 15 "
     ]
    }
   ],
   "source": [
    "sizes=input().split()\n",
    "m=int(sizes[0])\n",
    "n=int(sizes[1])\n",
    "l=[]\n",
    "l_list=[int(i) for i in input().split()]\n",
    "for i in range(m):\n",
    "    start=n*i\n",
    "    end=n*(i+1)\n",
    "    new_line=l_list[start:end]\n",
    "    l.append(new_line)\n",
    "for i in range(m):\n",
    "    sum=0\n",
    "    for j in range(n):\n",
    "        sum=sum+int(l[i][j])\n",
    "    print(sum,end=\" \")"
   ]
  },
  {
   "cell_type": "markdown",
   "metadata": {},
   "source": [
    "**Exercise 6.**\n",
    "Given a two dimensional n*m array, print the array in a sine wave order. i.e. print the first column top to bottom, next column bottom to top and so on.\n",
    "Note : Print the elements separated by space.\n",
    " \n",
    "                input format:Line 1 : n, m, array elements (separated by space)\n",
    "                             like: 3 4 1  2  3  4 5  6  7  8 9 10 11 12\n",
    "                                  \n",
    "                output format:1 5 9 10 6 2 3 7 11 12 8 4"
   ]
  },
  {
   "cell_type": "code",
   "execution_count": 8,
   "metadata": {},
   "outputs": [
    {
     "name": "stdout",
     "output_type": "stream",
     "text": [
      "3 4 1 2 3 4 5 6 7 8 9 10 11 12\n",
      "1 5 9 10 6 2 3 7 11 12 8 4 "
     ]
    }
   ],
   "source": [
    "def waveprint(arr):\n",
    "    rows=len(arr)\n",
    "    cols=len(arr[0])\n",
    "    for j in range(cols):\n",
    "        if j%2==0:\n",
    "            for i in range(rows):\n",
    "                print(arr[i][j],end=' ')\n",
    "        else:\n",
    "            for i in range(rows-1,-1,-1):\n",
    "                print(arr[i][j],end=' ')\n",
    "l=[int(i) for i in input().strip().split(\" \")]\n",
    "m,n=l[0],l[1]\n",
    "arr=[[l[(j*n)+i+2] for i in range(n)]for j in range(m)]\n",
    "waveprint(arr)"
   ]
  },
  {
   "cell_type": "markdown",
   "metadata": {},
   "source": [
    "**Exercise 7.**\n",
    "\n",
    "Given a string, remove all the consecutive duplicates that are present in the given string. That means, if 'aaa' is present in the string then it should become 'a' in the output string.\n",
    "\n",
    "Sample Input:\n",
    "\n",
    "    aabccbaa\n",
    "\n",
    "Sample Output:\n",
    "\n",
    "    abcba"
   ]
  },
  {
   "cell_type": "code",
   "execution_count": 9,
   "metadata": {},
   "outputs": [
    {
     "name": "stdout",
     "output_type": "stream",
     "text": [
      "aabccbaa\n",
      "abcba\n"
     ]
    }
   ],
   "source": [
    "def remove(s):\n",
    "    index=1\n",
    "    while index<len(s):\n",
    "        if s[index]==s[index-1]:\n",
    "            nextIndex=index+1\n",
    "            length=len(s)\n",
    "            while nextIndex<length and s[nextIndex]==s[index]:\n",
    "                nextIndex+=1\n",
    "            s=s[:index]+s[nextIndex:]\n",
    "        else:\n",
    "            index+=1\n",
    "    return s\n",
    "\n",
    "s1=input()\n",
    "print(remove(s1))"
   ]
  },
  {
   "cell_type": "markdown",
   "metadata": {},
   "source": [
    "**Exercise 8.**\n",
    "\n",
    "Given a string S, reverse each word of a string individually. For eg. if a string is \"abc def\", reversed string should be \"cba fed\".\n",
    "\n",
    "Input Format :\n",
    "\n",
    "    String S\n",
    "\n",
    "Output Format :\n",
    "\n",
    "    Updated string\n",
    "\n",
    "Constraints :\n",
    "\n",
    "    1 <= Length of S <= 1000\n",
    "\n",
    "Sample Input :\n",
    "    \n",
    "    Welcome to Coding Ninjas\n",
    "\n",
    "Sample Output:\n",
    "    \n",
    "    emocleW ot gnidoC sajniN"
   ]
  },
  {
   "cell_type": "code",
   "execution_count": 11,
   "metadata": {},
   "outputs": [
    {
     "name": "stdout",
     "output_type": "stream",
     "text": [
      "Welcome to Coding Ninjas\n",
      "emocleW ot gnidoC sajniN\n"
     ]
    }
   ],
   "source": [
    "def reverse(s):\n",
    "    ans=''\n",
    "    for char in s:\n",
    "        ans=char+ans\n",
    "    return ans\n",
    "\n",
    "def reverseeachword(s):\n",
    "    length =len(s)\n",
    "    index=0\n",
    "    while index<length:\n",
    "        if s[index] in ' \\t\\n':\n",
    "            index+=1\n",
    "        else:\n",
    "            start=index\n",
    "            index+=1\n",
    "            while index<length and s[index] not in ' \\t\\n':\n",
    "                index+=1\n",
    "            s=s[:start]+reverse(s[start:index])+s[index:]\n",
    "    return s\n",
    "s=input()\n",
    "print(reverseeachword(s))"
   ]
  },
  {
   "cell_type": "markdown",
   "metadata": {},
   "source": [
    "**Exercise 9 Highest Occuring Character**\n",
    "\n",
    "Given a string, find and return the highest occurring character present in the given string.\n",
    "If there are 2 characters in the input string with same frequency, return the character which comes first.\n",
    "Note : Assume all the characters in the given string are lowercase.\n",
    "\n",
    "Sample Input 1:\n",
    "\n",
    "    abdefgbabfba\n",
    "\n",
    "Sample Output 1:\n",
    "\n",
    "    b\n",
    "\n",
    "Sample Input 2:\n",
    "\n",
    "    xy\n",
    "\n",
    "Sample Output 2:\n",
    "\n",
    "    x"
   ]
  },
  {
   "cell_type": "code",
   "execution_count": 14,
   "metadata": {},
   "outputs": [
    {
     "name": "stdout",
     "output_type": "stream",
     "text": [
      "xy\n",
      "x\n"
     ]
    }
   ],
   "source": [
    "def maxChar(s):\n",
    "    freCount={}\n",
    "    ans=s[0]\n",
    "    for char in s:\n",
    "        if char in freCount:\n",
    "            freCount[char]+=1\n",
    "            if freCount[char]>freCount[ans]:\n",
    "                ans=char\n",
    "        else:\n",
    "            freCount[char]=1\n",
    "    for char in s:\n",
    "        if char==ans:\n",
    "            return ans\n",
    "        if freCount[char]==freCount[ans]:\n",
    "            return char\n",
    "    return ans\n",
    "s=input()\n",
    "print(maxChar(s))         "
   ]
  },
  {
   "cell_type": "markdown",
   "metadata": {},
   "source": [
    "**Exercise 10.Arrange Numbers in the Array**\n",
    "\n",
    "You have been given an empty array, ARR and its size N. The only input taken from the user will be N and you need not worry about the array.\n",
    "Your task is to populate the array using the integer values in the range 1 to N(both inclusive) in the order - 1,3,.......4,2.\n",
    "Note: You need not print the array. You only need to populate it.\n",
    "\n",
    "Input Format :\n",
    " \n",
    "     Integer N\n",
    "\n",
    "Output Format :\n",
    "\n",
    "    Elements of the array separated by single space(It has been taken care, need not worry)\n",
    "\n",
    "Sample Input 1 :\n",
    "\n",
    "    6\n",
    "Sample Output 1 :\n",
    " \n",
    "    1 3 5 6 4 2\n",
    "\n",
    "Sample Input 2 :\n",
    "    \n",
    "    9\n",
    "Sample Output 2 :\n",
    " \n",
    "    1 3 5 7 9 8 6 4 2"
   ]
  },
  {
   "cell_type": "code",
   "execution_count": 15,
   "metadata": {},
   "outputs": [
    {
     "name": "stdout",
     "output_type": "stream",
     "text": [
      "6\n",
      "1 3 5 6 4 2 \n"
     ]
    }
   ],
   "source": [
    "def arrange(arr,n):\n",
    "    left=0\n",
    "    right=n-1\n",
    "    counter=1\n",
    "    while left<=right:\n",
    "        if counter%2==1:\n",
    "            arr[left]=counter\n",
    "            counter+=1\n",
    "            left+=1\n",
    "        else:\n",
    "            arr[right]=counter\n",
    "            counter+=1\n",
    "            right-=1\n",
    "def printlist(arr,n):\n",
    "    for i in range(n):\n",
    "        print(arr[i],end=\" \")\n",
    "    print()\n",
    "\n",
    "n=int(input().strip())\n",
    "arr=n*[0] \n",
    "arrange(arr,n)\n",
    "printlist(arr,n)"
   ]
  },
  {
   "cell_type": "markdown",
   "metadata": {},
   "source": [
    "**Exercise 11.Leaders in array**\n",
    "\n",
    "Given an integer array A of size n. Find and print all the leaders present in the input array. An array element A[i] is called Leader, if all the elements following it (i.e. present at its right) are less than or equal to A[i].\n",
    "Print all the leader elements separated by space and in the same order they are present in the input array.\n",
    "\n",
    "Input Format :\n",
    "\n",
    "    Line 1 : Integer n, size of array\n",
    "    Line 2 : Array A elements (separated by space)\n",
    "\n",
    "Output Format :\n",
    " \n",
    "     leaders of array (separated by space)\n",
    "\n",
    "Sample Input 1 :\n",
    "\n",
    "    6\n",
    "    3 12 34 2 0 -1\n",
    "\n",
    "Sample Output 1 :\n",
    "\n",
    "    34 2 0 -1\n",
    "\n",
    "Sample Input 2 :\n",
    "\n",
    "    5\n",
    "    13 17 5 4 6\n",
    "\n",
    "Sample Output 2 :\n",
    "    \n",
    "    17 6"
   ]
  },
  {
   "cell_type": "code",
   "execution_count": 16,
   "metadata": {},
   "outputs": [
    {
     "name": "stdout",
     "output_type": "stream",
     "text": [
      "6\n",
      "3 12 34 2 0 -1\n",
      "34 2 0 -1 "
     ]
    }
   ],
   "source": [
    "n=int(input())\n",
    "arr=[int(ele) for ele in input().split()]\n",
    "curr_max=arr[n-1]\n",
    "ans=[arr[n-1]]\n",
    "for i in range(n-2,-1,-1):\n",
    "    if arr[i]>=curr_max:\n",
    "        ans.append(arr[i])\n",
    "        curr_max=arr[i]\n",
    "for i in range(len(ans)-1,-1,-1):\n",
    "    print(ans[i],end=' ')"
   ]
  },
  {
   "cell_type": "markdown",
   "metadata": {},
   "source": [
    "**Exercise 11.Maximise the sum**\n",
    "\n",
    "Given 2 sorted arrays (in increasing order), find a path through the intersections that produces maximum sum and return the maximum sum.\n",
    "That is, we can switch from one array to another array only at common elements.\n",
    "If no intersection element is present, we need to take sum of all elements from the array with greater sum.\n",
    "\n",
    "Input Format :\n",
    " \n",
    "     Line 1 : An integer M i.e. size of first array\n",
    "     Line 2 : M integers which are elements of first array, separated by spaces\n",
    "     Line 3 : An integer N i.e. size of second array\n",
    "     Line 4 : N integers which are elements of second array, separated by spaces\n",
    "\n",
    "Output Format :\n",
    "\n",
    "    Maximum sum value\n",
    "\n",
    "Sample Input :\n",
    "\n",
    "    6\n",
    "    1 5 10 15 20 25\n",
    "    5\n",
    "    2 4 5 9 15\n",
    "\n",
    "Sample Output :\n",
    "\n",
    "    81"
   ]
  },
  {
   "cell_type": "code",
   "execution_count": 18,
   "metadata": {},
   "outputs": [
    {
     "name": "stdout",
     "output_type": "stream",
     "text": [
      "6\n",
      "1 5 10 15 20 25\n",
      "5\n",
      "2 4 5 9 15\n",
      "81\n"
     ]
    }
   ],
   "source": [
    "def maxpathsum(ar1,ar2):\n",
    "    m=len(ar1)\n",
    "    n=len(ar2)\n",
    "    max=0\n",
    "    suma=0\n",
    "    sumb=0\n",
    "    i=0\n",
    "    j=0\n",
    "    while(i<m and j<n):\n",
    "        if(ar1[i]==ar2[j]):\n",
    "            max+=suma if suma>sumb else sumb\n",
    "            max+=ar1[i]\n",
    "            i+=1\n",
    "            j+=1\n",
    "            suma=sumb=0\n",
    "        elif(ar1[i]<ar2[j]):\n",
    "            suma+=ar1[i]\n",
    "            i+=1\n",
    "        else:\n",
    "            sumb+=ar2[j]\n",
    "            j+=1\n",
    "    while(i<m):\n",
    "        suma+=ar1[i]\n",
    "        i+=1\n",
    "    while(j<n):\n",
    "        sumb+=ar2[j]\n",
    "        j+=1\n",
    "    max+=suma if suma>sumb else sumb\n",
    "    return max\n",
    "n1=int(input())\n",
    "arr1=list(int(i) for i in input().strip().split(' '))\n",
    "n2=int(input())\n",
    "arr2=list(int(i) for i in input().strip().split(' '))\n",
    "sum=maxpathsum(arr1,arr2)\n",
    "print(sum)"
   ]
  },
  {
   "cell_type": "markdown",
   "metadata": {},
   "source": [
    "**Exercise 12.Largest Row or Column**\n",
    "Given an NxM 2D array, you need to find out which row or column has largest sum (sum of its elements) overall amongst all rows and columns.\n",
    "\n",
    "Input Format :\n",
    " \n",
    "     Line 1 : 2 integers N and M respectively, separated by space \n",
    "     Line 2: Single line having N*M elements entered in row wise manner, each separated by space.\n",
    "\n",
    "Output Format :\n",
    " \n",
    "     If row sum is maximum then - \"row\" row_num max_sum\n",
    "     If column sum is maximum then - \"column\" col_num max_sum\n",
    "\n",
    "Sample Input 1 :\n",
    "\n",
    "    2 2 \n",
    "    1 1 1 1\n",
    "\n",
    "Sample Output 1 :\n",
    "\n",
    "    row 0 2"
   ]
  },
  {
   "cell_type": "code",
   "execution_count": 20,
   "metadata": {},
   "outputs": [
    {
     "name": "stdout",
     "output_type": "stream",
     "text": [
      "2 2\n",
      "1 1 1 1\n",
      "row 0 2\n"
     ]
    }
   ],
   "source": [
    "def largestrowcol(arr):\n",
    "    rows=len(arr)\n",
    "    cols=len(arr[0])\n",
    "    sumrow=[0]*rows\n",
    "    sumcol=[0]*cols\n",
    "    for i in range(rows):\n",
    "        for j in range(cols):\n",
    "            sumrow[i]+=arr[i][j]\n",
    "            sumcol[j]+=arr[i][j]\n",
    "    l=['row',0,sumrow[0]]\n",
    "    for i in range(rows):\n",
    "        if sumrow[i]>l[2]:\n",
    "            l[2]=sumrow[i]\n",
    "            l[1]=i\n",
    "    for j in range(cols):\n",
    "        if sumcol[j]>l[2]:\n",
    "            l[2]=sumcol[j]\n",
    "            l[1]=j\n",
    "            l[0]='column'\n",
    "    return l\n",
    "m,n=(int(i) for i in input().strip().split(' '))\n",
    "l=[int(i) for i in input().strip().split(' ')] \n",
    "arr=[[l[(j*n)+i]for i in range(n)] for j in range(m)]\n",
    "l=largestrowcol(arr)\n",
    "print(*l)"
   ]
  },
  {
   "cell_type": "markdown",
   "metadata": {},
   "source": [
    "**Exercise 13.Print spiral**\n",
    "\n",
    "Given an N*M 2D array, print it in spiral form. That is, first you need to print the 1st row, then last column, then last row and then first column and so on.\n",
    "Print every element only once.\n",
    "\n",
    "Input format :\n",
    "    \n",
    "    Line 1 : N and M, No. of rows & No. of columns (separated by space) followed by N*M  elements in row wise fashion.\n",
    "\n",
    "Output format :\n",
    "\n",
    "    Elements of matrix in spiral form in a single line and space separated\n",
    "\n",
    "Sample Input 1:\n",
    " \n",
    "     4 4 1 2 3 4 5 6 7 8 9 10 11 12 13 14 15 16\n",
    "\n",
    "Sample Output 1:\n",
    "    \n",
    "    1 2 3 4 8 12 16 15 14 13 9 5 6 7 11 10 "
   ]
  },
  {
   "cell_type": "code",
   "execution_count": 24,
   "metadata": {},
   "outputs": [
    {
     "name": "stdout",
     "output_type": "stream",
     "text": [
      "4 4 1 2 3 4 5 6 7 8 9 10 11 12 13 14 15 16\n",
      "1 2 3 4 8 12 16 15 14 13 9 5 6 7 11 10 "
     ]
    }
   ],
   "source": [
    "def spiralprint(arr):\n",
    "    rows=len(arr)\n",
    "    cols=len(arr[0])\n",
    "    startrow,startcol,endrow,endcol=0,0,rows-1,cols-1\n",
    "    while startrow<endrow and startcol<=endcol:\n",
    "        for j in range(startcol,endcol+1):\n",
    "            print(arr[startrow][j],end=\" \")\n",
    "        startrow+=1\n",
    "        if startrow>endrow or startcol>endcol:\n",
    "            break\n",
    "        for i in range(startrow,endrow+1):\n",
    "            print(arr[i][endcol],end=\" \")\n",
    "        endcol-=1\n",
    "        if startrow>endrow or startcol>endcol:\n",
    "            break\n",
    "        for j in range(endcol,startcol-1,-1):\n",
    "            print(arr[endrow][j],end=\" \")\n",
    "        endrow-=1\n",
    "        if startrow>endrow or startcol>endcol:\n",
    "            break\n",
    "        for i in range(endrow,startrow-1,-1):\n",
    "            print(arr[i][startcol],end=\" \")\n",
    "        startcol+=1\n",
    "l=[int(i) for i in input().strip().split(\" \")]\n",
    "m,n=l[0],l[1]\n",
    "arr=[[l[(j*n)+i+2]for i in range(n)] for j in range(m)]\n",
    "spiralprint(arr)      "
   ]
  }
 ],
 "metadata": {
  "kernelspec": {
   "display_name": "Python 3",
   "language": "python",
   "name": "python3"
  },
  "language_info": {
   "codemirror_mode": {
    "name": "ipython",
    "version": 3
   },
   "file_extension": ".py",
   "mimetype": "text/x-python",
   "name": "python",
   "nbconvert_exporter": "python",
   "pygments_lexer": "ipython3",
   "version": "3.7.3"
  }
 },
 "nbformat": 4,
 "nbformat_minor": 2
}
