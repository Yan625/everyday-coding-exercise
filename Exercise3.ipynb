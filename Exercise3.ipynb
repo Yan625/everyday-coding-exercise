{
 "cells": [
  {
   "cell_type": "markdown",
   "metadata": {},
   "source": [
    "## Amazon job datasets analysis\n",
    "For this assignment, we'll be using \"Amazon Job Dataset\" which is collected by scraping https://amazon.jobs.\n",
    "Different fields of dataset and what they represent:\n",
    "\n",
    "                Title : The title of the job\n",
    "                Location : Location of the job\n",
    "                Posting_date : Posting date of the job\n",
    "                Description: Overall description for the job\n",
    "                Basic Qualifications: Minimum Qualifications for the job\n",
    "                Preferred Qualifications: Preferred Qualifications for the job\n",
    "         \n",
    " By analysing this dataset, we can find out many interesting insights such as -\n",
    "                 \n",
    "                - number of job openings in a specific location\n",
    "                - jobs available for a specific qualification\n",
    "                - Most popular skillset \n",
    "                - and many other things"
   ]
  },
  {
   "cell_type": "markdown",
   "metadata": {},
   "source": [
    "## 1)Job Location\n",
    "Find number of job openings in Bangalore,IN and in Seattle,US?\n",
    "Print the Number of Job opening in Bangalore and Seattle as Integer value.\n",
    "\n",
    "                    CountBangalore CountSeattle\n",
    "                    "
   ]
  },
  {
   "cell_type": "code",
   "execution_count": 1,
   "metadata": {},
   "outputs": [
    {
     "name": "stdout",
     "output_type": "stream",
     "text": [
      "66 1856\n"
     ]
    }
   ],
   "source": [
    "import csv\n",
    "with open(\"amazon_jobs_dataset.csv\") as data1:\n",
    "    data=csv.DictReader(data1,skipinitialspace=True)\n",
    "    data=list(data)\n",
    "    \n",
    "    job_location={}\n",
    "    for row in data:\n",
    "        key=row['location']\n",
    "        \n",
    "        \n",
    "        if key in job_location:\n",
    "            job_location[key]+=1\n",
    "        else:\n",
    "            job_location[key]=1\n",
    "        \n",
    "    print(job_location['IN, KA, Bangalore '],job_location['US, WA, Seattle '])"
   ]
  },
  {
   "cell_type": "markdown",
   "metadata": {},
   "source": [
    "## 2) Job computer vision\n",
    "What are the total number of job openings related to Computer Vision ?\n",
    "Note:For finding the job related to computer vision check the Job Title column.\n",
    "Print the count as the Integer Value"
   ]
  },
  {
   "cell_type": "code",
   "execution_count": 2,
   "metadata": {},
   "outputs": [
    {
     "name": "stdout",
     "output_type": "stream",
     "text": [
      "14\n"
     ]
    }
   ],
   "source": [
    "import csv\n",
    "title='Computer Vision'\n",
    "lines=0\n",
    "openings_cv=0\n",
    "mydict=dict()\n",
    "with open(\"amazon_jobs_dataset.csv\") as csv_file:\n",
    "    job_reader=csv.reader(csv_file)\n",
    "    next(job_reader)\n",
    "    for row in job_reader:\n",
    "        if title in row[1]:\n",
    "            mydict[row[1]]=mydict.get(row[1],\n",
    "                                      0)+1\n",
    "            openings_cv+=1\n",
    "        lines+=1\n",
    "print(openings_cv) "
   ]
  },
  {
   "cell_type": "markdown",
   "metadata": {},
   "source": [
    "## 3) Job Canada\n",
    "Find the number of job openings in Canada?\n",
    "Print the count as the Integer Value"
   ]
  },
  {
   "cell_type": "code",
   "execution_count": 7,
   "metadata": {},
   "outputs": [
    {
     "name": "stdout",
     "output_type": "stream",
     "text": [
      "156\n"
     ]
    }
   ],
   "source": [
    "import csv\n",
    "with open(\"amazon_jobs_dataset.csv\") as data1:\n",
    "    data=csv.DictReader(data1,skipinitialspace=True)\n",
    "    data=list(data)\n",
    "    \n",
    "    job_location={}\n",
    "    for row in data:\n",
    "        location=row['location']\n",
    "        location1=location.split(\",\")\n",
    "        if location1!='':\n",
    "            key=location1[0]\n",
    "        if key in job_location:\n",
    "            job_location[key]+=1\n",
    "        else:\n",
    "            job_location[key]=1\n",
    "        \n",
    "    print(job_location['CA'])"
   ]
  },
  {
   "cell_type": "markdown",
   "metadata": {},
   "source": [
    "## 4) Job Month 2018\n",
    "Find the month having most job openings in Year 2018 ?\n",
    "Print the month (Month Name i.e January, February, March) and Number of job opening as Integer Value"
   ]
  },
  {
   "cell_type": "code",
   "execution_count": 8,
   "metadata": {},
   "outputs": [
    {
     "name": "stdout",
     "output_type": "stream",
     "text": [
      "January   907\n"
     ]
    }
   ],
   "source": [
    "import csv\n",
    "with open(\"amazon_jobs_dataset.csv\") as data1:\n",
    "    data=csv.DictReader(data1,skipinitialspace=True)\n",
    "    data=list(data)\n",
    "    \n",
    "    l={}\n",
    "    for row in data:\n",
    "        date=row['Posting_date']\n",
    "        date1=date.split()\n",
    "        #month-->date1[0]\n",
    "        #year-->date1[2]\n",
    "        \n",
    "        if int(float(date1[2]))==2018:\n",
    "            key1=date1[0]\n",
    "            if key1 in l:\n",
    "                l[key1]+=1\n",
    "            else:\n",
    "                l[key1]=1\n",
    "    maximum=0\n",
    "    for i in l:\n",
    "        if l[i]>maximum:\n",
    "            maximum=l[i]\n",
    "    print(i,\" \",l[i])\n",
    "        "
   ]
  },
  {
   "cell_type": "markdown",
   "metadata": {},
   "source": [
    "## 5) Job degree\n",
    "Find the number of job openings are present if applicant have Bachelor degree?\n",
    "Print the count as Integer value\n",
    "\n",
    "Note : Here we will use the BASIC QUALIFICATIONS feature to find out whether bachelor degree for Job is required or not. Keywords that can be used are 'Bachelor', 'BS' and 'BA'.\n",
    "Output Format :"
   ]
  },
  {
   "cell_type": "code",
   "execution_count": 9,
   "metadata": {},
   "outputs": [
    {
     "name": "stdout",
     "output_type": "stream",
     "text": [
      "2961\n"
     ]
    }
   ],
   "source": [
    "import csv\n",
    "with open(\"amazon_jobs_dataset.csv\") as data1:\n",
    "    data=csv.DictReader(data1,skipinitialspace=True)\n",
    "    data=list(data)\n",
    "    \n",
    "    a=0\n",
    "    for row in data:\n",
    "        string=row['BASIC QUALIFICATIONS']\n",
    "        substrs=['Bachelor','BS','BA']\n",
    "        output=any(substr in string for substr in substrs)\n",
    "        if output:\n",
    "            a=a+1\n",
    "    print(a)    "
   ]
  },
  {
   "cell_type": "markdown",
   "metadata": {},
   "source": [
    "## 6) Job language\n",
    "Among Java, C++ and Python, which of the language has more job openings in India for Bachelor Degree Holder?\n",
    "Print the Language(i.e Java,C++,Python) and number of job opening as integer value.\n",
    "\n",
    "Note : Here we will use the BASIC QUALIFICATIONS feature to find out whether bachelor degree for Job is required or not. Keywords that can be used are 'Bachelor', 'BS' and 'BA' and we will use the BASIC QUALIFICATIONS feature to find out whether Language is required for the job or not.Keywords that is used for language searching are 'Java','C++' or 'Python'.(There case should not be changed).\n",
    "\n",
    "Output Format :\n",
    "\n",
    "        Language Count"
   ]
  },
  {
   "cell_type": "code",
   "execution_count": 11,
   "metadata": {},
   "outputs": [
    {
     "name": "stdout",
     "output_type": "stream",
     "text": [
      "Java 1\n"
     ]
    }
   ],
   "source": [
    "import csv\n",
    "path=\"amazon_jobs_dataset.csv\"\n",
    "country_basic_qualifications=[]\n",
    "with open(path,'r') as csvfile:\n",
    "    reader=csv.DictReader(csvfile)\n",
    "    for row in reader:\n",
    "        country_basic_qualifications.append([row['location'],row['BASIC QUALIFICATIONS']])\n",
    "def getcountryjobopening(arr,country_code):\n",
    "    arrlist=[]\n",
    "    for i in arr:\n",
    "        if i[0].split(',')[0]==country_code:\n",
    "            arrlist.append(i[1])\n",
    "    return arrlist\n",
    "india_list=getcountryjobopening(country_basic_qualifications,'IN')\n",
    "def getjobbachelorlist(arr):\n",
    "    arrlist=[]\n",
    "    for i in arr:\n",
    "        if 'Bachelor' in i or 'BS' in i or 'BA' in i :\n",
    "            arrlist.append(i)\n",
    "        return arrlist\n",
    "india_bachelor_list=getjobbachelorlist(india_list)\n",
    "def getthedeveloper(arr,language):\n",
    "    arrlist=[]\n",
    "    for i in arr:\n",
    "        if language in i:\n",
    "            arrlist.append(i)\n",
    "    return arrlist\n",
    "java=[len(getthedeveloper(india_bachelor_list,'Java')),'Java']\n",
    "cplus=[len(getthedeveloper(india_bachelor_list,'C++')),'C++']\n",
    "python=[len(getthedeveloper(india_bachelor_list,'Python')),'Python']\n",
    "maximum=max(java,cplus,python)\n",
    "print(maximum[1],maximum[0])"
   ]
  },
  {
   "cell_type": "markdown",
   "metadata": {},
   "source": [
    "## 7)Job Java\n",
    "Find the country does Amazon need the most number of Java Developer?\n",
    "Print the Country(Country Shortcut as given in Dataset) and number of job opening as integer value\n",
    "\n",
    "Note :Here we will use the BASIC QUALIFICATIONS feature to find out whether Java is required for the job or not.Keyword is used is 'Java'.(Here case should not be changed).\n",
    "\n",
    "Output Format :\n",
    "\n",
    "    Country Count"
   ]
  },
  {
   "cell_type": "code",
   "execution_count": 12,
   "metadata": {},
   "outputs": [
    {
     "name": "stdout",
     "output_type": "stream",
     "text": [
      "US 2009\n"
     ]
    }
   ],
   "source": [
    "import csv\n",
    "with open(\"amazon_jobs_dataset.csv\") as data1:\n",
    "    data=csv.DictReader(data1,skipinitialspace=True)\n",
    "    data=list(data)\n",
    "\n",
    "    l={}\n",
    "    for row in data:\n",
    "        location=row['location'].split(\",\")\n",
    "        country=location[0]\n",
    "        \n",
    "        string=row['BASIC QUALIFICATIONS']\n",
    "        substr='Java'\n",
    "        if substr in string:\n",
    "            if country in l:\n",
    "                l[country]+=1\n",
    "            else:\n",
    "                l[country]=1\n",
    "    maximum=0\n",
    "    for i in l:\n",
    "        if l[i]>maximum:\n",
    "            maximum=l[i]\n",
    "    for i in l:\n",
    "        if l[i]==maximum:\n",
    "            print(i,maximum)    "
   ]
  },
  {
   "cell_type": "code",
   "execution_count": null,
   "metadata": {},
   "outputs": [],
   "source": []
  }
 ],
 "metadata": {
  "kernelspec": {
   "display_name": "Python 3",
   "language": "python",
   "name": "python3"
  },
  "language_info": {
   "codemirror_mode": {
    "name": "ipython",
    "version": 3
   },
   "file_extension": ".py",
   "mimetype": "text/x-python",
   "name": "python",
   "nbconvert_exporter": "python",
   "pygments_lexer": "ipython3",
   "version": "3.7.3"
  }
 },
 "nbformat": 4,
 "nbformat_minor": 2
}
