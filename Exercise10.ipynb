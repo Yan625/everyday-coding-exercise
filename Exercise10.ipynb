{
 "cells": [
  {
   "cell_type": "markdown",
   "metadata": {},
   "source": [
    "## Linear Regression - Diabetes Dataset\n",
    "\n",
    "Diabetes dataset is one of the datasets available in sklearn. The diabetes dataset consists of 10 physiological variables (age, sex, weight, blood pressure) measure on 442 patients, and an indication of disease progression after one year.\n",
    "You are given a Training dataset csv file with X train and Y train data. As studied in lecture, your task is to come up with Linear Regression training algorithm and thus predictions for the test dataset given.\n",
    "Read Instructions carefully -\n",
    "\n",
    "1. Use Linear Regression(in scikit learn) as a training algorithm and submit results predicted by that.\n",
    "2. Files are in csv format, use genfromtxt function in numpy to load data from csv file. Similarly you can use savetxt function to save data into a file.\n",
    "3. Submit a csv file with only predictions for X test data. File should not have any headers and should only have one column i.e. predictions.  Also prediction values in file should be upto **5** decimal places.\n",
    "4. Upon submission of predictions, the score you will get is based on coefficient of determination."
   ]
  },
  {
   "cell_type": "code",
   "execution_count": 115,
   "metadata": {},
   "outputs": [],
   "source": [
    "import numpy as np\n",
    "train_data=np.genfromtxt('x_y_train.csv',delimiter=',')\n",
    "test_data=np.genfromtxt('x_test.csv',delimiter=',')"
   ]
  },
  {
   "cell_type": "code",
   "execution_count": 116,
   "metadata": {},
   "outputs": [
    {
     "data": {
      "text/plain": [
       "(331, 11)"
      ]
     },
     "execution_count": 116,
     "metadata": {},
     "output_type": "execute_result"
    }
   ],
   "source": [
    "train_data.shape"
   ]
  },
  {
   "cell_type": "code",
   "execution_count": 117,
   "metadata": {},
   "outputs": [
    {
     "data": {
      "text/plain": [
       "(111, 10)"
      ]
     },
     "execution_count": 117,
     "metadata": {},
     "output_type": "execute_result"
    }
   ],
   "source": [
    "test_data.shape"
   ]
  },
  {
   "cell_type": "code",
   "execution_count": 118,
   "metadata": {},
   "outputs": [],
   "source": [
    "x_train=train_data[:,0:10]\n",
    "y_train=train_data[:,10]"
   ]
  },
  {
   "cell_type": "code",
   "execution_count": 119,
   "metadata": {},
   "outputs": [
    {
     "data": {
      "text/plain": [
       "LinearRegression(copy_X=True, fit_intercept=True, n_jobs=None, normalize=False)"
      ]
     },
     "execution_count": 119,
     "metadata": {},
     "output_type": "execute_result"
    }
   ],
   "source": [
    "from sklearn.linear_model import LinearRegression\n",
    "alg1=LinearRegression()\n",
    "alg1.fit(x_train,y_train)"
   ]
  },
  {
   "cell_type": "code",
   "execution_count": 120,
   "metadata": {},
   "outputs": [
    {
     "data": {
      "text/plain": [
       "array([105.52974799, 105.8039198 , 178.60857225,  79.3828781 ,\n",
       "        52.95868706,  98.87263854, 150.71755448,  34.86515216,\n",
       "       113.13535727, 161.50184038, 135.8615611 ,  94.71592222,\n",
       "       138.48094422, 141.37441723, 158.76862662, 171.65288616,\n",
       "       106.44835654, 103.92659639,  95.38693889, 167.40118092,\n",
       "       166.53426278, 101.53464712, 252.45035972, 147.02258547,\n",
       "       214.78906632, 161.27557106, 210.61315228,  71.78091585,\n",
       "       189.65032431, 206.6134259 , 219.98643455, 168.80192534,\n",
       "       116.84846127, 178.74399639,  77.03247418,  59.54633214,\n",
       "       111.5673781 , 156.95186739, 154.59591259, 198.94457493,\n",
       "       115.53884017, 153.46699024,  84.96179518, 113.70337192,\n",
       "       142.14155617, 147.31040378,  82.78072358,  77.89237327,\n",
       "       128.99006192, 261.58712282, 213.31187775, 243.98791257,\n",
       "       167.68132094, 183.69712124, 166.85926884, 202.11440188,\n",
       "       220.39235543, 172.40288024, 176.60897931, 109.04656567,\n",
       "       276.37789836,  90.99941821, 289.37221147, 119.56253351,\n",
       "        75.45687948, 180.78598759, 146.62093081, 156.42382465,\n",
       "        41.079036  , 247.90645166, 207.99121432,  90.09641075,\n",
       "       222.24169638, 189.86378006, 182.2695376 , 164.39881376,\n",
       "       190.27066587, 105.4486795 , 199.86136394, 245.796388  ,\n",
       "       123.20281334, 119.41031908, 145.86620411, 206.19247291,\n",
       "       150.86282453, 142.23221646, 154.56874616, 115.29233396,\n",
       "       134.07810123, 118.42225404, 203.5767555 , 170.66483797,\n",
       "       127.409797  ,  57.13507634, 231.92226503, 185.20713654,\n",
       "       187.37494558,  83.55920849, 185.42585685, 217.34035639,\n",
       "       108.86715354,  80.98714568, 127.05524123, 242.00738792,\n",
       "       155.9723414 , 125.67575276, 246.41235643, 234.963933  ,\n",
       "       191.51298252, 168.33254477, 163.02965178])"
      ]
     },
     "execution_count": 120,
     "metadata": {},
     "output_type": "execute_result"
    }
   ],
   "source": [
    "y_predict=alg1.predict(X=test_data)\n",
    "y_predict"
   ]
  },
  {
   "cell_type": "code",
   "execution_count": 121,
   "metadata": {},
   "outputs": [],
   "source": [
    " np.savetxt('predictions.csv',y_predict,fmt='%.5f') "
   ]
  }
 ],
 "metadata": {
  "kernelspec": {
   "display_name": "Python 3",
   "language": "python",
   "name": "python3"
  },
  "language_info": {
   "codemirror_mode": {
    "name": "ipython",
    "version": 3
   },
   "file_extension": ".py",
   "mimetype": "text/x-python",
   "name": "python",
   "nbconvert_exporter": "python",
   "pygments_lexer": "ipython3",
   "version": "3.7.3"
  }
 },
 "nbformat": 4,
 "nbformat_minor": 2
}
