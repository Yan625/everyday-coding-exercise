{
 "cells": [
  {
   "cell_type": "markdown",
   "metadata": {},
   "source": [
    "**Exercise 1**\n",
    "\n",
    "    A given data of 12 Employees working in an investment firm. So add the Employee Data in Employee SQLite Database of Employee_Detail1 Table which was created by you.\n",
    "    \n",
    "        1)employee_id=[101,102,103,104,105,106,107,108,109,110,111,112,113]\n",
    "    \n",
    "        2)name=['Aadarsh','Aarti','Siddharth','Aman','Amit','Shivansh','Vaibhav','Himanshu','Raman','Kunal','Adhira','Tanya']\n",
    "    \n",
    "        3)age=[25,27,25,24,30,26,23,26,25,26,29,24]\n",
    "    \n",
    "        4)department=['Marketing','Operations','Finance','Human Resource','Marketing','IT','Finance','IT','Operations','Marketing','Human Resource','Marketing']\n",
    "    \n",
    "        5)salary=[50000,60000,85000,75000,50000,90000,85000,90000,60000,50000,75000,50000]\n"
   ]
  },
  {
   "cell_type": "code",
   "execution_count": 2,
   "metadata": {},
   "outputs": [],
   "source": [
    "employee_id=[101,102,103,104,105,106,107,108,109,110,111,112,113]\n",
    "name=['Aadarsh','Aarti','Siddharth','Aman','Amit','Shivansh','Vaibhav','Himanshu','Raman','Kunal','Adhira','Tanya']\n",
    "age=[25,27,25,24,30,26,23,26,25,26,29,24]\n",
    "department=['Marketing','Operations','Finance','Human Resource','Marketing','IT','Finance','IT','Operations','Marketing','Human Resource','Marketing']\n",
    "salary=[50000,60000,85000,75000,50000,90000,85000,90000,60000,50000,75000,50000]\n",
    "\n",
    "l=[]\n",
    "for i in range(len(name)):\n",
    "    l.append([employee_id[i],name[i],age[i],department[i],salary[i]])    \n",
    "    \n",
    "import sqlite3\n",
    "database=sqlite3.connect('Employees.sqlite')\n",
    "cur=database.cursor()\n",
    "sql_query = 'create table Employee_Detail1 (employee_id int primary key,name Text,Age int,department text,salary int)'\n",
    "cur.execute(sql_query)\n",
    "cur.executemany(\"Insert into Employee_Detail1 values(?,?,?,?,?)\",l)\n",
    "database.commit()"
   ]
  },
  {
   "cell_type": "markdown",
   "metadata": {},
   "source": [
    "**Exercise 2**\n",
    "\n",
    "    Find the employee_id of employee whose is working in Finance Department in Investment firm from Employee SQLite Database.\n",
    "    Print the employee_id as integer value\n",
    "\n",
    "Output Format:\n",
    "\n",
    "    employee_id_1\n",
    "    employee_id_2\n",
    "    .  .  ."
   ]
  },
  {
   "cell_type": "code",
   "execution_count": 3,
   "metadata": {},
   "outputs": [
    {
     "name": "stdout",
     "output_type": "stream",
     "text": [
      "103\n",
      "107\n"
     ]
    }
   ],
   "source": [
    "import sqlite3\n",
    "database=sqlite3.connect('Employees.sqlite')\n",
    "cur=database.cursor()\n",
    "cur.execute('select * from Employee_Detail1 where department=\"Finance\"')\n",
    "ans=cur.fetchall()\n",
    "for i in ans:\n",
    "    print(i[0])"
   ]
  },
  {
   "cell_type": "markdown",
   "metadata": {},
   "source": [
    "**Exercise 3.Count Genre**\n",
    "\n",
    "    IMDB.sqlite' database contains all details of movies and has three tables with name IMDB, genre and earning.\n",
    "    Find the count of each genre present in IMDB movie dataset?\n",
    "    Print the Genre and number of movies present in that genre.\n",
    "    Note: Ignore the empty value present in genre.\n",
    "\n",
    "Output Format:\n",
    "\n",
    "    genre_1 num_movie_1\n",
    "    genre_2 num_movie_2"
   ]
  },
  {
   "cell_type": "code",
   "execution_count": 4,
   "metadata": {},
   "outputs": [
    {
     "name": "stdout",
     "output_type": "stream",
     "text": [
      "Action 33\n",
      "Adventure 43\n",
      "Animation 13\n",
      "Biography 21\n",
      "Comedy 31\n",
      "Crime 11\n",
      "Drama 77\n",
      "Family 3\n",
      "Fantasy 7\n",
      "History 6\n",
      "Horror 2\n",
      "Music 3\n",
      "Musical 1\n",
      "Mystery 7\n",
      "Romance 13\n",
      "Sci-Fi 18\n",
      "Sport 3\n",
      "Thriller 14\n",
      "War 2\n",
      "Western 2\n"
     ]
    }
   ],
   "source": [
    "import sqlite3\n",
    "import pandas as pd\n",
    "database=sqlite3.connect('IMDB.sqlite')\n",
    "data=pd.read_sql_query('select genre,count(*) as number from genre group by genre',database)\n",
    "m=len(data['genre'])             \n",
    "for i in range(1,m):\n",
    "    if data['genre'][i]==' ':\n",
    "        continue\n",
    "    else:\n",
    "        print(data['genre'][i],data['number'][i])"
   ]
  },
  {
   "cell_type": "markdown",
   "metadata": {},
   "source": [
    "**Exercise 4.IMDB Movie**\n",
    "\n",
    "    IMDB.sqlite' database contains all details of movies and has three tables with name IMDB, genre and earning.\n",
    "    Find the highest-grossing movie (i.e domestic earning + worldwide earning) in IMDB database.\n",
    "    Print the rating of that movie.\n",
    "\n",
    "Output Format:\n",
    "    \n",
    "    rating"
   ]
  },
  {
   "cell_type": "code",
   "execution_count": 6,
   "metadata": {},
   "outputs": [
    {
     "name": "stdout",
     "output_type": "stream",
     "text": [
      "8.1\n"
     ]
    }
   ],
   "source": [
    "import sqlite3\n",
    "import pandas as pd\n",
    "import numpy as np\n",
    "database=sqlite3.connect('IMDB.sqlite')\n",
    "data=pd.read_sql_query('select earning.Movie_id,IMDB.Rating,Domestic,Worldwide from earning inner join IMDB on earning.Movie_id=IMDB.Movie_id ',database)\n",
    "data['Grossing']=data['Domestic']+data['Worldwide']\n",
    "data.head()\n",
    "data.to_sql('earning',database,if_exists='replace')\n",
    "data=pd.read_sql_query('select Rating,Grossing from earning order by Grossing desc',database)\n",
    "print(data['Rating'][0])"
   ]
  }
 ],
 "metadata": {
  "kernelspec": {
   "display_name": "Python 3",
   "language": "python",
   "name": "python3"
  },
  "language_info": {
   "codemirror_mode": {
    "name": "ipython",
    "version": 3
   },
   "file_extension": ".py",
   "mimetype": "text/x-python",
   "name": "python",
   "nbconvert_exporter": "python",
   "pygments_lexer": "ipython3",
   "version": "3.7.3"
  }
 },
 "nbformat": 4,
 "nbformat_minor": 2
}
